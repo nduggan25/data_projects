{
 "cells": [
  {
   "cell_type": "code",
   "execution_count": 60,
   "metadata": {},
   "outputs": [],
   "source": [
    "import pandas as pd\n",
    "import numpy as np\n",
    "\n",
    "from sklearn.ensemble import RandomForestRegressor\n",
    "\n",
    "from sklearn.metrics import r2_score\n"
   ]
  },
  {
   "cell_type": "code",
   "execution_count": 16,
   "metadata": {},
   "outputs": [],
   "source": [
    "qb_df = pd.read_csv('QUARTERBACKS.csv')"
   ]
  },
  {
   "cell_type": "code",
   "execution_count": 18,
   "metadata": {},
   "outputs": [
    {
     "data": {
      "text/html": [
       "<div>\n",
       "<style scoped>\n",
       "    .dataframe tbody tr th:only-of-type {\n",
       "        vertical-align: middle;\n",
       "    }\n",
       "\n",
       "    .dataframe tbody tr th {\n",
       "        vertical-align: top;\n",
       "    }\n",
       "\n",
       "    .dataframe thead th {\n",
       "        text-align: right;\n",
       "    }\n",
       "</style>\n",
       "<table border=\"1\" class=\"dataframe\">\n",
       "  <thead>\n",
       "    <tr style=\"text-align: right;\">\n",
       "      <th></th>\n",
       "      <th>Average Points</th>\n",
       "      <th>Standard Deviation</th>\n",
       "      <th>Floor (-1 Standard Dev)</th>\n",
       "      <th>Ceiling (+1 Standard Dev)</th>\n",
       "      <th>Games &gt; 10 Pts</th>\n",
       "      <th>Games &gt; 20 Pts</th>\n",
       "      <th>Games &gt; 30 Pts</th>\n",
       "      <th>Total Attempts</th>\n",
       "      <th>Avgerage Attempts</th>\n",
       "      <th>Total Completions</th>\n",
       "      <th>Average Completions</th>\n",
       "      <th>Average Pass Yds</th>\n",
       "      <th>Average Pass Tds</th>\n",
       "      <th>Average Interceptions</th>\n",
       "      <th>Average Rush Yds</th>\n",
       "      <th>Average Rush Tds</th>\n",
       "      <th>Red Zone Pass Opps</th>\n",
       "      <th>Red Zone Rush Opps</th>\n",
       "      <th>Avg Red Zone Opps</th>\n",
       "      <th>Games Played</th>\n",
       "    </tr>\n",
       "  </thead>\n",
       "  <tbody>\n",
       "    <tr>\n",
       "      <th>0</th>\n",
       "      <td>23.16</td>\n",
       "      <td>8.79</td>\n",
       "      <td>14.37</td>\n",
       "      <td>31.95</td>\n",
       "      <td>15</td>\n",
       "      <td>9</td>\n",
       "      <td>3</td>\n",
       "      <td>602</td>\n",
       "      <td>37.63</td>\n",
       "      <td>358</td>\n",
       "      <td>22.38</td>\n",
       "      <td>248.56</td>\n",
       "      <td>2.19</td>\n",
       "      <td>0.69</td>\n",
       "      <td>36.00</td>\n",
       "      <td>0.19</td>\n",
       "      <td>72</td>\n",
       "      <td>9</td>\n",
       "      <td>5.06</td>\n",
       "      <td>15</td>\n",
       "    </tr>\n",
       "    <tr>\n",
       "      <th>1</th>\n",
       "      <td>21.13</td>\n",
       "      <td>8.37</td>\n",
       "      <td>12.76</td>\n",
       "      <td>29.50</td>\n",
       "      <td>15</td>\n",
       "      <td>8</td>\n",
       "      <td>2</td>\n",
       "      <td>517</td>\n",
       "      <td>32.31</td>\n",
       "      <td>299</td>\n",
       "      <td>18.69</td>\n",
       "      <td>205.25</td>\n",
       "      <td>1.31</td>\n",
       "      <td>1.13</td>\n",
       "      <td>54.44</td>\n",
       "      <td>0.44</td>\n",
       "      <td>43</td>\n",
       "      <td>10</td>\n",
       "      <td>3.31</td>\n",
       "      <td>15</td>\n",
       "    </tr>\n",
       "    <tr>\n",
       "      <th>2</th>\n",
       "      <td>20.78</td>\n",
       "      <td>8.50</td>\n",
       "      <td>12.28</td>\n",
       "      <td>29.27</td>\n",
       "      <td>14</td>\n",
       "      <td>6</td>\n",
       "      <td>3</td>\n",
       "      <td>632</td>\n",
       "      <td>39.50</td>\n",
       "      <td>399</td>\n",
       "      <td>24.94</td>\n",
       "      <td>284.44</td>\n",
       "      <td>2.00</td>\n",
       "      <td>0.69</td>\n",
       "      <td>3.25</td>\n",
       "      <td>0.06</td>\n",
       "      <td>77</td>\n",
       "      <td>0</td>\n",
       "      <td>4.81</td>\n",
       "      <td>15</td>\n",
       "    </tr>\n",
       "    <tr>\n",
       "      <th>3</th>\n",
       "      <td>21.05</td>\n",
       "      <td>8.96</td>\n",
       "      <td>12.08</td>\n",
       "      <td>30.01</td>\n",
       "      <td>14</td>\n",
       "      <td>6</td>\n",
       "      <td>2</td>\n",
       "      <td>529</td>\n",
       "      <td>35.27</td>\n",
       "      <td>348</td>\n",
       "      <td>23.20</td>\n",
       "      <td>269.47</td>\n",
       "      <td>1.80</td>\n",
       "      <td>0.47</td>\n",
       "      <td>24.00</td>\n",
       "      <td>0.07</td>\n",
       "      <td>61</td>\n",
       "      <td>8</td>\n",
       "      <td>4.60</td>\n",
       "      <td>15</td>\n",
       "    </tr>\n",
       "    <tr>\n",
       "      <th>4</th>\n",
       "      <td>19.15</td>\n",
       "      <td>5.86</td>\n",
       "      <td>13.29</td>\n",
       "      <td>25.00</td>\n",
       "      <td>14</td>\n",
       "      <td>7</td>\n",
       "      <td>0</td>\n",
       "      <td>611</td>\n",
       "      <td>38.19</td>\n",
       "      <td>381</td>\n",
       "      <td>23.81</td>\n",
       "      <td>276.25</td>\n",
       "      <td>1.88</td>\n",
       "      <td>0.75</td>\n",
       "      <td>6.63</td>\n",
       "      <td>0.06</td>\n",
       "      <td>63</td>\n",
       "      <td>3</td>\n",
       "      <td>4.13</td>\n",
       "      <td>15</td>\n",
       "    </tr>\n",
       "  </tbody>\n",
       "</table>\n",
       "</div>"
      ],
      "text/plain": [
       "   Average Points  Standard Deviation  Floor (-1 Standard Dev)  \\\n",
       "0           23.16                8.79                    14.37   \n",
       "1           21.13                8.37                    12.76   \n",
       "2           20.78                8.50                    12.28   \n",
       "3           21.05                8.96                    12.08   \n",
       "4           19.15                5.86                    13.29   \n",
       "\n",
       "   Ceiling (+1 Standard Dev)  Games > 10 Pts  Games > 20 Pts  Games > 30 Pts  \\\n",
       "0                      31.95              15               9               3   \n",
       "1                      29.50              15               8               2   \n",
       "2                      29.27              14               6               3   \n",
       "3                      30.01              14               6               2   \n",
       "4                      25.00              14               7               0   \n",
       "\n",
       "   Total Attempts  Avgerage Attempts  Total Completions  Average Completions  \\\n",
       "0             602              37.63                358                22.38   \n",
       "1             517              32.31                299                18.69   \n",
       "2             632              39.50                399                24.94   \n",
       "3             529              35.27                348                23.20   \n",
       "4             611              38.19                381                23.81   \n",
       "\n",
       "   Average Pass Yds  Average Pass Tds  Average Interceptions  \\\n",
       "0            248.56              2.19                   0.69   \n",
       "1            205.25              1.31                   1.13   \n",
       "2            284.44              2.00                   0.69   \n",
       "3            269.47              1.80                   0.47   \n",
       "4            276.25              1.88                   0.75   \n",
       "\n",
       "   Average Rush Yds  Average Rush Tds  Red Zone Pass Opps  Red Zone Rush Opps  \\\n",
       "0             36.00              0.19                  72                   9   \n",
       "1             54.44              0.44                  43                  10   \n",
       "2              3.25              0.06                  77                   0   \n",
       "3             24.00              0.07                  61                   8   \n",
       "4              6.63              0.06                  63                   3   \n",
       "\n",
       "   Avg Red Zone Opps  Games Played  \n",
       "0               5.06            15  \n",
       "1               3.31            15  \n",
       "2               4.81            15  \n",
       "3               4.60            15  \n",
       "4               4.13            15  "
      ]
     },
     "execution_count": 18,
     "metadata": {},
     "output_type": "execute_result"
    }
   ],
   "source": [
    "X = qb_df\n",
    "y = X.pop('Total Points')\n",
    "\n",
    "numeric_variables = list(X.dtypes[X.dtypes != \"object\"].index)\n",
    "X[numeric_variables].head()"
   ]
  },
  {
   "cell_type": "code",
   "execution_count": 43,
   "metadata": {},
   "outputs": [
    {
     "data": {
      "text/plain": [
       "RandomForestRegressor(bootstrap=True, criterion='mse', max_depth=None,\n",
       "           max_features='auto', max_leaf_nodes=None,\n",
       "           min_impurity_decrease=0.0, min_impurity_split=None,\n",
       "           min_samples_leaf=1, min_samples_split=2,\n",
       "           min_weight_fraction_leaf=0.0, n_estimators=100, n_jobs=1,\n",
       "           oob_score=True, random_state=42, verbose=0, warm_start=False)"
      ]
     },
     "execution_count": 43,
     "metadata": {},
     "output_type": "execute_result"
    }
   ],
   "source": [
    "model = RandomForestRegressor(n_estimators=100, oob_score=True, random_state=42)\n",
    "model.fit(X[numeric_variables], y)\n",
    "\n"
   ]
  },
  {
   "cell_type": "code",
   "execution_count": 44,
   "metadata": {},
   "outputs": [
    {
     "data": {
      "text/plain": [
       "0.9576395417037196"
      ]
     },
     "execution_count": 44,
     "metadata": {},
     "output_type": "execute_result"
    }
   ],
   "source": [
    "#oob_score produces R^2 value\n",
    "model.oob_score_"
   ]
  },
  {
   "cell_type": "code",
   "execution_count": 61,
   "metadata": {},
   "outputs": [
    {
     "data": {
      "text/plain": [
       "0.9576395417037196"
      ]
     },
     "execution_count": 61,
     "metadata": {},
     "output_type": "execute_result"
    }
   ],
   "source": [
    "y_oob = model.oob_prediction_\n",
    "y = np.asarray(y, dtype=None, order=None)\n",
    "#lol this also does that\n",
    "r2_score(y, y_oob)"
   ]
  },
  {
   "cell_type": "markdown",
   "metadata": {},
   "source": [
    "Variable Importance Measures"
   ]
  },
  {
   "cell_type": "code",
   "execution_count": 75,
   "metadata": {},
   "outputs": [
    {
     "data": {
      "text/plain": [
       "<matplotlib.axes._subplots.AxesSubplot at 0xd88cc70>"
      ]
     },
     "execution_count": 75,
     "metadata": {},
     "output_type": "execute_result"
    },
    {
     "data": {
      "image/png": "[encoded data removed]",
      "text/plain": [
       "<matplotlib.figure.Figure at 0xd9489f0>"
      ]
     },
     "metadata": {},
     "output_type": "display_data"
    }
   ],
   "source": [
    "importances = model.feature_importances_\n",
    "\n",
    "feature_importances = pd.Series(importances, index=X[numeric_variables].columns)\n",
    "feature_importances.sort_values(ascending=True, inplace=True)\n",
    "feature_importances.plot(kind=\"barh\", figsize=(8,6))\n"
   ]
  },
  {
   "cell_type": "code",
   "execution_count": 76,
   "metadata": {},
   "outputs": [
    {
     "name": "stdout",
     "output_type": "stream",
     "text": [
      "The slowest run took 9.56 times longer than the fastest. This could mean that an intermediate result is being cached.\n",
      "100000 loops, best of 3: 7.41 µs per loop\n"
     ]
    }
   ],
   "source": [
    "%%timeit\n",
    "model = RandomForestRegressor(1000, oob_score=True, n_jobs=-1, random_state=42)\n"
   ]
  },
  {
   "cell_type": "code",
   "execution_count": 81,
   "metadata": {},
   "outputs": [
    {
     "name": "stdout",
     "output_type": "stream",
     "text": [
      "(30, 'trees')\n",
      "('R Squared Score: ', 0.9572576953178509)\n",
      "(50, 'trees')\n",
      "('R Squared Score: ', 0.9575472029631346)\n",
      "(100, 'trees')\n",
      "('R Squared Score: ', 0.9576395417037196)\n",
      "(200, 'trees')\n",
      "('R Squared Score: ', 0.961218912015708)\n",
      "(500, 'trees')\n",
      "('R Squared Score: ', 0.9594576908526583)\n",
      "(1000, 'trees')\n",
      "('R Squared Score: ', 0.9585533688858516)\n",
      "(2000, 'trees')\n",
      "('R Squared Score: ', 0.958918124170278)\n"
     ]
    },
    {
     "data": {
      "text/plain": [
       "<matplotlib.axes._subplots.AxesSubplot at 0x1039c050>"
      ]
     },
     "execution_count": 81,
     "metadata": {},
     "output_type": "execute_result"
    },
    {
     "data": {
      "image/png": "[encoded data removed]",
      "text/plain": [
       "<matplotlib.figure.Figure at 0xd5e6c90>"
      ]
     },
     "metadata": {},
     "output_type": "display_data"
    }
   ],
   "source": [
    "results = []\n",
    "n_estimator_options = [30, 50, 100, 200, 500, 1000, 2000]\n",
    "\n",
    "for trees in n_estimator_options:\n",
    "    model = RandomForestRegressor(trees, oob_score=True, n_jobs=-1, random_state=42)\n",
    "    model.fit(X[numeric_variables],y)\n",
    "    print(trees, \"trees\")\n",
    "    r_square = r2_score(y, model.oob_prediction_)\n",
    "    print(\"R Squared Score: \", r_square)\n",
    "    results.append(r_square)\n",
    "    \n",
    "pd.Series(results, n_estimator_options).plot()"
   ]
  },
  {
   "cell_type": "code",
   "execution_count": 84,
   "metadata": {},
   "outputs": [
    {
     "name": "stdout",
     "output_type": "stream",
     "text": [
      "(1, ' min samples')\n",
      "('r squared: ', 0.961218912015708)\n",
      "(2, ' min samples')\n",
      "('r squared: ', 0.9602694932147418)\n",
      "(3, ' min samples')\n",
      "('r squared: ', 0.9564337819975579)\n",
      "(4, ' min samples')\n",
      "('r squared: ', 0.9451864932220431)\n",
      "(5, ' min samples')\n",
      "('r squared: ', 0.9276802079174499)\n",
      "(6, ' min samples')\n",
      "('r squared: ', 0.8947705382785163)\n",
      "(7, ' min samples')\n",
      "('r squared: ', 0.8730601250644565)\n",
      "(8, ' min samples')\n",
      "('r squared: ', 0.8359707033324627)\n",
      "(9, ' min samples')\n",
      "('r squared: ', 0.8143316544779949)\n",
      "(10, ' min samples')\n",
      "('r squared: ', 0.8041550334647775)\n"
     ]
    },
    {
     "data": {
      "text/plain": [
       "<matplotlib.axes._subplots.AxesSubplot at 0x101151f0>"
      ]
     },
     "execution_count": 84,
     "metadata": {},
     "output_type": "execute_result"
    },
    {
     "data": {
      "image/png": "[encoded data removed]",
      "text/plain": [
       "<matplotlib.figure.Figure at 0xd969610>"
      ]
     },
     "metadata": {},
     "output_type": "display_data"
    }
   ],
   "source": [
    "results = []\n",
    "min_samples_leaf_options = [1, 2, 3, 4, 5, 6, 7, 8, 9, 10]\n",
    "\n",
    "for min_samples in min_samples_leaf_options:\n",
    "    model = RandomForestRegressor(n_estimators = 200, oob_score=True, n_jobs=1, random_state=42, max_features=\"auto\", min_samples_leaf = min_samples)\n",
    "    model.fit(X[numeric_variables], y)\n",
    "    print(min_samples, \" min samples\")\n",
    "    r_square = r2_score(y, model.oob_prediction_)\n",
    "    print(\"r squared: \", r_square)\n",
    "    results.append(r_square)\n",
    "    \n",
    "pd.Series(results, min_samples_leaf_options).plot()\n",
    "    "
   ]
  },
  {
   "cell_type": "markdown",
   "metadata": {},
   "source": [
    "Final Model\n"
   ]
  },
  {
   "cell_type": "code",
   "execution_count": 85,
   "metadata": {},
   "outputs": [
    {
     "name": "stdout",
     "output_type": "stream",
     "text": [
      "('R Squared:', 0.961218912015708)\n"
     ]
    }
   ],
   "source": [
    "model = RandomForestRegressor(n_estimators=200, oob_score=True, n_jobs=-1, random_state=42, max_features=\"auto\", min_samples_leaf=1)\n",
    "model.fit(X[numeric_variables], y)\n",
    "r_square = r2_score(y, model.oob_prediction_)\n",
    "print(\"R Squared:\", r_square)"
   ]
  },
  {
   "cell_type": "code",
   "execution_count": null,
   "metadata": {},
   "outputs": [],
   "source": []
  }
 ],
 "metadata": {
  "kernelspec": {
   "display_name": "Python 2",
   "language": "python",
   "name": "python2"
  },
  "language_info": {
   "codemirror_mode": {
    "name": "ipython",
    "version": 2
   },
   "file_extension": ".py",
   "mimetype": "text/x-python",
   "name": "python",
   "nbconvert_exporter": "python",
   "pygments_lexer": "ipython2",
   "version": "2.7.12"
  }
 },
 "nbformat": 4,
 "nbformat_minor": 2
}
